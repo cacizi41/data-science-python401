{
 "cells": [
  {
   "cell_type": "code",
   "execution_count": 68,
   "metadata": {
    "collapsed": false
   },
   "outputs": [
    {
     "name": "stdout",
     "output_type": "stream",
     "text": [
      "length: 891 \n"
     ]
    }
   ],
   "source": [
    "import pandas\n",
    "import numpy as np\n",
    "#from scipy.stats import mode\n",
    "from sklearn.cross_validation import train_test_split\n",
    "from sklearn.cluster import KMeans\n",
    "from pprint import pprint\n",
    "\n",
    "T_TRAIN = 'raw_data/train_titanic.csv'\n",
    "T_TEST = 'raw_data/test_titanic.csv'\n",
    "\n",
    "titanic_dataframe = pandas.read_csv(T_TRAIN, header=0)\n",
    "titanic_dataframe.head(5)\n",
    "\n",
    "print('length: {0} '.format(len(titanic_dataframe)))"
   ]
  },
  {
   "cell_type": "code",
   "execution_count": 69,
   "metadata": {
    "collapsed": true
   },
   "outputs": [],
   "source": [
    "titanic_dataframe['Age'] = titanic_dataframe['Age'].fillna(titanic_dataframe['Age'].mean())"
   ]
  },
  {
   "cell_type": "code",
   "execution_count": 70,
   "metadata": {
    "collapsed": true
   },
   "outputs": [],
   "source": [
    "titanic_dataframe.drop(['Name', 'Ticket', 'Cabin', 'Embarked', 'Sex'], axis=1, inplace=True)"
   ]
  },
  {
   "cell_type": "code",
   "execution_count": 71,
   "metadata": {
    "collapsed": false
   },
   "outputs": [
    {
     "name": "stdout",
     "output_type": "stream",
     "text": [
      "     PassengerId  Survived  Pclass        Age  SibSp  Parch     Fare\n",
      "271          272         1       3  25.000000      0      0   0.0000\n",
      "664          665         1       3  20.000000      1      0   7.9250\n",
      "502          503         0       3  29.699118      0      0   7.6292\n",
      "23            24         1       1  28.000000      0      0  35.5000\n",
      "692          693         1       3  29.699118      0      0  56.4958\n"
     ]
    }
   ],
   "source": [
    "train, test = train_test_split(titanic_dataframe, test_size = 0.2)\n",
    "print(train.head(5))\n",
    "y = train['Survived']\n",
    "X = train[2:]\n",
    "k = 2\n",
    "kmeans = KMeans(n_clusters=k)"
   ]
  },
  {
   "cell_type": "code",
   "execution_count": 94,
   "metadata": {
    "collapsed": false
   },
   "outputs": [
    {
     "name": "stdout",
     "output_type": "stream",
     "text": [
      "Survived  358\n",
      "Age  354\n",
      "Pclass  354\n",
      "SibSp  354\n",
      "Parch  354\n",
      "Fare  358\n"
     ]
    }
   ],
   "source": [
    "x = train['Survived']\n",
    "results = kmeans.fit_predict(X.values)\n",
    "print('Survived ', np.count_nonzero(results))\n",
    "x = train['Age']\n",
    "results = kmeans.fit_predict(X.values)\n",
    "print('Age ', np.count_nonzero(results))\n",
    "x = train['Pclass']\n",
    "results = kmeans.fit_predict(X.values)\n",
    "print('Pclass ', np.count_nonzero(results))\n",
    "x = train['SibSp']\n",
    "results = kmeans.fit_predict(X.values)\n",
    "print('SibSp ', np.count_nonzero(results))\n",
    "x = train['Parch']\n",
    "results = kmeans.fit_predict(X.values)\n",
    "print('Parch ', np.count_nonzero(results))\n",
    "x = train['Fare']\n",
    "results = kmeans.fit_predict(X.values)\n",
    "print('Fare ', np.count_nonzero(results))"
   ]
  }
 ],
 "metadata": {
  "kernelspec": {
   "display_name": "Python 3",
   "language": "python",
   "name": "python3"
  },
  "language_info": {
   "codemirror_mode": {
    "name": "ipython",
    "version": 3
   },
   "file_extension": ".py",
   "mimetype": "text/x-python",
   "name": "python",
   "nbconvert_exporter": "python",
   "pygments_lexer": "ipython3",
   "version": "3.5.1"
  }
 },
 "nbformat": 4,
 "nbformat_minor": 0
}
