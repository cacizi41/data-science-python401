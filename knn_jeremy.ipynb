{
 "cells": [
  {
   "cell_type": "markdown",
   "metadata": {
    "collapsed": true
   },
   "source": [
    "### Assignment\n",
    "---------------\n",
    "\n",
    "Jupyter\n",
    "Create a Jupyter notebook:\n",
    "\n",
    "Provide cells which show your data cleaning, analysis and pre-processing.\n",
    "Provide an implementation of the pseudo code for the daily algorithm(s).\n",
    "\n",
    "Kaggle\n",
    "Run the daily algorithm(s) using scikit-learn and submit the results to Kaggle.\n",
    "\n",
    "Timing\n",
    "Run all implementations using the timeit cell magic. The daily algorithms should be re-run if the data changes, for an apples-to-apples comparison.\n",
    "\n",
    "Conclusions and Recommendations\n",
    "Record the results of timeit for both implementations in a cell. Were there any surprises? Why or why not?\n",
    "Record your Kaggle placement on the leaderboard in a cell. Were you surprised by the results? Why or why not?\n",
    "Record the results of algorithms rerun on the same data.\n",
    "\n",
    "\n",
    "### Titanic Data Exploration\n",
    "---------------\n",
    "\n",
    "##### Hypothesis:\n",
    "\n",
    "Women and children would have gone first.\n",
    "Following that weatlhy males and their families\n",
    "\n"
   ]
  },
  {
   "cell_type": "code",
   "execution_count": 3,
   "metadata": {
    "collapsed": true
   },
   "outputs": [],
   "source": [
    "\"\"\"\n",
    "Raw_data\n",
    "\"\"\"\n",
    "import pandas\n",
    "import numpy\n",
    "#from scipy.stats import mode\n",
    "from sklearn import neighbors\n",
    "from sklearn.neighbors import DistanceMetric \n",
    "from pprint import pprint\n",
    "\n",
    "T_TRAIN = 'raw_data/train_titanic.csv'\n",
    "T_TEST = 'raw_data/test_titanic.csv'"
   ]
  },
  {
   "cell_type": "code",
   "execution_count": 4,
   "metadata": {
    "collapsed": false
   },
   "outputs": [
    {
     "name": "stdout",
     "output_type": "stream",
     "text": [
      "Train:\n",
      " raw_data/t\n",
      "Test:\n",
      " raw_data/t\n"
     ]
    }
   ],
   "source": [
    "print(\"Train:\\n\", T_TRAIN[:10])\n",
    "print(\"Test:\\n\", T_TEST[:10])"
   ]
  },
  {
   "cell_type": "markdown",
   "metadata": {
    "collapsed": true
   },
   "source": []
  },
  {
   "cell_type": "code",
   "execution_count": null,
   "metadata": {
    "collapsed": true
   },
   "outputs": [],
   "source": [
    ""
   ]
  },
  {
   "cell_type": "markdown",
   "metadata": {},
   "source": []
  },
  {
   "cell_type": "code",
   "execution_count": null,
   "metadata": {
    "collapsed": true
   },
   "outputs": [],
   "source": [
    ""
   ]
  },
  {
   "cell_type": "markdown",
   "metadata": {},
   "source": []
  },
  {
   "cell_type": "code",
   "execution_count": null,
   "metadata": {
    "collapsed": true
   },
   "outputs": [],
   "source": [
    ""
   ]
  }
 ],
 "metadata": {
  "kernelspec": {
   "display_name": "Python 3",
   "language": "python",
   "name": "python3"
  },
  "language_info": {
   "codemirror_mode": {
    "name": "ipython",
    "version": 3.0
   },
   "file_extension": ".py",
   "mimetype": "text/x-python",
   "name": "python",
   "nbconvert_exporter": "python",
   "pygments_lexer": "ipython3",
   "version": "3.5.1"
  }
 },
 "nbformat": 4,
 "nbformat_minor": 0
}