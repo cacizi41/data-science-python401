{
 "cells": [
  {
   "cell_type": "markdown",
   "metadata": {
    "collapsed": true
   },
   "source": [
    "### Titanic Data Exploration\n",
    "---------------\n",
    "\n",
    "##### Hypothesis:\n",
    "Women and children would have gone first.\n",
    "Following that weatlhy males and their families"
   ]
  },
  {
   "cell_type": "code",
   "execution_count": 3,
   "metadata": {
    "collapsed": true
   },
   "outputs": [],
   "source": [
    "\"\"\"\n",
    "Raw_data\n",
    "\"\"\"\n",
    "import pandas\n",
    "import numpy\n",
    "#from scipy.stats import mode\n",
    "from sklearn import neighbors\n",
    "from sklearn.neighbors import DistanceMetric \n",
    "from pprint import pprint\n",
    "\n",
    "T_TRAIN = 'raw_data/train_titanic.csv'\n",
    "T_TEST = 'raw_data/test_titanic.csv'"
   ]
  },
  {
   "cell_type": "code",
   "execution_count": 4,
   "metadata": {
    "collapsed": false
   },
   "outputs": [
    {
     "name": "stdout",
     "output_type": "stream",
     "text": [
      "Train:\n",
      " raw_data/t\n",
      "Test:\n",
      " raw_data/t\n"
     ]
    }
   ],
   "source": [
    "print(\"Train:\\n\", T_TRAIN[:10])\n",
    "print(\"Test:\\n\", T_TEST[:10])"
   ]
  },
  {
   "cell_type": "code",
   "execution_count": null,
   "metadata": {
    "collapsed": true
   },
   "outputs": [],
   "source": []
  }
 ],
 "metadata": {
  "kernelspec": {
   "display_name": "Python 3",
   "language": "python",
   "name": "python3"
  },
  "language_info": {
   "codemirror_mode": {
    "name": "ipython",
    "version": 3
   },
   "file_extension": ".py",
   "mimetype": "text/x-python",
   "name": "python",
   "nbconvert_exporter": "python",
   "pygments_lexer": "ipython3",
   "version": "3.5.1"
  }
 },
 "nbformat": 4,
 "nbformat_minor": 0
}
