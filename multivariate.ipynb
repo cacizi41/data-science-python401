{
 "cells": [
  {
   "cell_type": "code",
   "execution_count": null,
   "metadata": {
    "collapsed": true
   },
   "outputs": [],
   "source": [
    "import pandas as pd\n",
    "import numpy as np\n",
    "import os\n",
    "\n",
    "data_salareis = \"raw_data/Salaries.csv\"\n",
    "data_batting = \"raw_data/Batting.csv\"\n",
    "data_pitching = \"raw_data/Pitching.csv\"\n",
    "data_halloffame = \"raw_data/HallOfFame.csv\"\n",
    "data_fielding = \"raw_data/Fielding.csv\"\n",
    "\n",
    "salary_data = pd.read_csv(data_salaries)\n",
    "pitching_data = pd.read_csv(data_pitchin)\n",
    "rename_these = {\"G\": \"games\", \"W\": \"wins\", \"L\": \"losses\", \"H\": \"hits\",\n",
    "              \"WP\": \"wild_pitches\", \"R\": \"runs_allowed\", \"SO\": \"strikeouts\",\n",
    "              \"SHO\": \"shutouts\", \"SV\": \"saves\", \"IPouts\": \"outs_pitched\",\n",
    "              \"BB\": \"walks\", \"BFP\": \"batters_faced\"}\n",
    "pitching_data.rename(columns=rename_these, inplace=True)"
   ]
  }
 ],
 "metadata": {
  "kernelspec": {
   "display_name": "Python 3",
   "language": "python",
   "name": "python3"
  },
  "language_info": {
   "codemirror_mode": {
    "name": "ipython",
    "version": 3
   },
   "file_extension": ".py",
   "mimetype": "text/x-python",
   "name": "python",
   "nbconvert_exporter": "python",
   "pygments_lexer": "ipython3",
   "version": "3.5.1"
  }
 },
 "nbformat": 4,
 "nbformat_minor": 0
}
