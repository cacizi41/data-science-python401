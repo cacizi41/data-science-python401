{
 "cells": [
  {
   "cell_type": "markdown",
   "metadata": {},
   "source": [
    "**Problem Set 1**"
   ]
  },
  {
   "cell_type": "code",
   "execution_count": 19,
   "metadata": {
    "collapsed": false
   },
   "outputs": [],
   "source": [
    "import pandas as pd\n",
    "import numpy as np\n",
    "import scipy.stats as sp\n",
    "\n",
    "titanic_train = pd.read_csv('raw_data/train_titanic.csv', header=0)\n"
   ]
  },
  {
   "cell_type": "code",
   "execution_count": 20,
   "metadata": {
    "collapsed": false
   },
   "outputs": [
    {
     "name": "stdout",
     "output_type": "stream",
     "text": [
      "The mode of the passenger class was: [3]\n"
     ]
    }
   ],
   "source": [
    "pclass_column = titanic_train['Pclass']\n",
    "pclass_column = pclass_column.dropna()\n",
    "md = sp.mode(pclass_column)\n",
    "print('The mode of the passenger class was: {}'.format(md[0]))"
   ]
  },
  {
   "cell_type": "code",
   "execution_count": 23,
   "metadata": {
    "collapsed": false
   },
   "outputs": [
    {
     "name": "stdout",
     "output_type": "stream",
     "text": [
      "The mode of embarcation was: [2]\n"
     ]
    }
   ],
   "source": [
    "emb_column = titanic_train['Embarked']\n",
    "emb_column = emb_column.dropna()\n",
    "emb_column = emb_column.map({'C':1, 'S':2, 'Q':3}).astype(int)\n",
    "md = sp.mode(emb_column)\n",
    "print('The mode of embarcation int value was: {}'.format(md[0]))"
   ]
  },
  {
   "cell_type": "markdown",
   "metadata": {},
   "source": [
    "The most common port of embarcation is Southampton"
   ]
  },
  {
   "cell_type": "code",
   "execution_count": 27,
   "metadata": {
    "collapsed": false
   },
   "outputs": [
    {
     "name": "stdout",
     "output_type": "stream",
     "text": [
      "The mode of siblings/spouses of survivors aboard was: [0]\n"
     ]
    }
   ],
   "source": [
    "survivors = titanic_train.loc[titanic_train['Survived'] == 1]\n",
    "sib_col = survivors['SibSp']\n",
    "md = sp.mode(sib_col)\n",
    "print('The mode of siblings/spouses of survivors aboard was: {}'.format(md[0]))"
   ]
  },
  {
   "cell_type": "code",
   "execution_count": 32,
   "metadata": {
    "collapsed": false
   },
   "outputs": [
    {
     "name": "stdout",
     "output_type": "stream",
     "text": [
      "The standard deviation is: 49.693428597180905\n",
      "The mean price is: 32.2042079685746\n",
      "The median price is: 14.4542\n"
     ]
    }
   ],
   "source": [
    "s_dev = np.std(titanic_train['Fare'], ddof=1)\n",
    "t_mean = titanic_train['Fare'].mean()\n",
    "t_med = titanic_train['Fare'].median()\n",
    "print('The standard deviation is: {}'.format(s_dev))\n",
    "print('The mean price is: {}'.format(t_mean))\n",
    "print('The median price is: {}'.format(t_med))"
   ]
  },
  {
   "cell_type": "markdown",
   "metadata": {},
   "source": [
    "The median ticket price is within 0-1 standard deviations from the mean."
   ]
  },
  {
   "cell_type": "code",
   "execution_count": 42,
   "metadata": {
    "collapsed": false
   },
   "outputs": [
    {
     "name": "stdout",
     "output_type": "stream",
     "text": [
      "The 90th percentile cost is: $77.9583\n",
      "The 5th percentile cost is: $7.225\n",
      "90% fare lowest class = 1\n",
      "90% fare highest class = 1\n",
      "5% fare lowest class = 3\n",
      "5% fare highest class = 1\n",
      "There were 6 people in the 5% fare group in first class.\n",
      "There were 6 people in the 5% fare group in second class.\n",
      "There were 43 people in the 5% fare group in third class.\n"
     ]
    }
   ],
   "source": [
    "perc_90 = np.percentile(titanic_train['Fare'], 90)\n",
    "perc_5 = np.percentile(titanic_train['Fare'], 5)\n",
    "print('The 90th percentile cost is: ${}'.format(perc_90))\n",
    "print('The 5th percentile cost is: ${}'.format(perc_5))\n",
    "\n",
    "class_90 = titanic_train.loc[titanic_train['Fare'] >= perc_90]\n",
    "class_5 = titanic_train.loc[titanic_train['Fare'] <= perc_5]\n",
    "\n",
    "print('90% fare lowest class = {}'.format(class_90['Pclass'].max()))\n",
    "print('90% fare highest class = {}'.format(class_90['Pclass'].min()))\n",
    "print('5% fare lowest class = {}'.format(class_5['Pclass'].max()))\n",
    "print('5% fare highest class = {}'.format(class_5['Pclass'].min()))\n",
    "\n",
    "perc_5_class_1 = titanic_train.loc[(titanic_train['Fare'] <= perc_5) & (titanic_train['Pclass'] == 1)]\n",
    "perc_5_class_2 = titanic_train.loc[(titanic_train['Fare'] <= perc_5) & (titanic_train['Pclass'] == 2)]\n",
    "perc_5_class_3 = titanic_train.loc[(titanic_train['Fare'] <= perc_5) & (titanic_train['Pclass'] == 3)]\n",
    "\n",
    "print('There were {} people in the 5% fare group in first class.'.format(len(perc_5_class_1)))\n",
    "print('There were {} people in the 5% fare group in second class.'.format(len(perc_5_class_2)))\n",
    "print('There were {} people in the 5% fare group in third class.'.format(len(perc_5_class_3)))"
   ]
  },
  {
   "cell_type": "code",
   "execution_count": 46,
   "metadata": {
    "collapsed": false
   },
   "outputs": [],
   "source": [
    "port_fare = titanic_train[['Embarked','Fare']]\n",
    "port_fare = port_fare.dropna()\n",
    "port_c = port_fare.loc[port_fare['Embarked'] == 'C']\n",
    "port_q = port_fare.loc[port_fare['Embarked'] == 'Q']\n",
    "port_s = port_fare.loc[port_fare['Embarked'] == 'S']\n",
    "\n",
    "port_c_mean = port_c.mean()\n",
    "port_q_mean = port_q.mean()\n",
    "port_s_mean = port_s.mean()"
   ]
  },
  {
   "cell_type": "markdown",
   "metadata": {},
   "source": [
    "The highest ticket price served the Cherbourg port."
   ]
  },
  {
   "cell_type": "code",
   "execution_count": 47,
   "metadata": {
    "collapsed": true
   },
   "outputs": [],
   "source": [
    "port_s = titanic_train.loc[(titanic_train['Embarked'] == 'S')]\n",
    "port_c = titanic_train.loc[(titanic_train['Embarked'] == 'C')]\n",
    "port_q = titanic_train.loc[(titanic_train['Embarked'] == 'Q')]\n",
    "\n",
    "port_s_sdev = port_s.std()\n",
    "port_c_sdev = port_c.std()\n",
    "port_q_sdev = port_q.std()"
   ]
  },
  {
   "cell_type": "markdown",
   "metadata": {},
   "source": [
    "Queenstown has the most passengers of a similar class."
   ]
  },
  {
   "cell_type": "code",
   "execution_count": null,
   "metadata": {
    "collapsed": false
   },
   "outputs": [],
   "source": [
    "quartile_list = [3, 5, 10, 15, 20, 25, 30, 35, 40, 45, 50, 55, 60, 65, 70, 75, 80, 85, 90, 95]\n",
    "survived = []\n",
    "total = []\n",
    "percentage = []\n",
    "prev_cost = 0\n",
    "\n",
    "for quartile in quartile_list:\n",
    "    ticket = np.percentile(titanic_train['Fare'], quartile)\n",
    "    survivors = titanic_train.loc[(titanic_train['Survived'] == 1) & (titanic_train['Fare'] <= ticket) & (titanic_train['Fare'] > prev_cost)]\n",
    "    total_passengers = titanic_train.loc[(titanic_train['Fare'] <= ticket) & (titanic_train['Fare'] > prev_cost)]\n",
    "    survived.append(len(survivors))\n",
    "    total.append(len(total_passengers))\n",
    "    perc = len(survivors) / len(total_passengers)\n",
    "    percentage.append(perc)\n",
    "    prev_cost = ticket\n",
    "\n"
   ]
  },
  {
   "cell_type": "code",
   "execution_count": 53,
   "metadata": {
    "collapsed": false
   },
   "outputs": [
    {
     "ename": "NameError",
     "evalue": "name 'percentage' is not defined",
     "output_type": "error",
     "traceback": [
      "\u001b[0;31m---------------------------------------------------------------------------\u001b[0m",
      "\u001b[0;31mNameError\u001b[0m                                 Traceback (most recent call last)",
      "\u001b[0;32m<ipython-input-53-5ed4a511cf8f>\u001b[0m in \u001b[0;36m<module>\u001b[0;34m()\u001b[0m\n\u001b[1;32m      1\u001b[0m \u001b[0;32mimport\u001b[0m \u001b[0mmatplotlib\u001b[0m\u001b[0;34m.\u001b[0m\u001b[0mpyplot\u001b[0m \u001b[0;32mas\u001b[0m \u001b[0mplt\u001b[0m\u001b[0;34m\u001b[0m\u001b[0m\n\u001b[0;32m----> 2\u001b[0;31m \u001b[0mplt\u001b[0m\u001b[0;34m.\u001b[0m\u001b[0mplot\u001b[0m\u001b[0;34m(\u001b[0m\u001b[0mquartile_list\u001b[0m\u001b[0;34m,\u001b[0m \u001b[0mpercentage\u001b[0m\u001b[0;34m,\u001b[0m \u001b[0;34m'ro'\u001b[0m\u001b[0;34m)\u001b[0m\u001b[0;34m\u001b[0m\u001b[0m\n\u001b[0m\u001b[1;32m      3\u001b[0m \u001b[0mplt\u001b[0m\u001b[0;34m.\u001b[0m\u001b[0mshow\u001b[0m\u001b[0;34m(\u001b[0m\u001b[0;34m)\u001b[0m\u001b[0;34m\u001b[0m\u001b[0m\n",
      "\u001b[0;31mNameError\u001b[0m: name 'percentage' is not defined"
     ]
    }
   ],
   "source": [
    "import matplotlib.pyplot as plt\n",
    "plt.plot(quartile_list, percentage, 'ro')\n",
    "plt.show()\n"
   ]
  },
  {
   "cell_type": "code",
   "execution_count": null,
   "metadata": {
    "collapsed": true
   },
   "outputs": [],
   "source": []
  }
 ],
 "metadata": {
  "kernelspec": {
   "display_name": "Python 3",
   "language": "python",
   "name": "python3"
  },
  "language_info": {
   "codemirror_mode": {
    "name": "ipython",
    "version": 3
   },
   "file_extension": ".py",
   "mimetype": "text/x-python",
   "name": "python",
   "nbconvert_exporter": "python",
   "pygments_lexer": "ipython3",
   "version": "3.5.1"
  }
 },
 "nbformat": 4,
 "nbformat_minor": 0
}
