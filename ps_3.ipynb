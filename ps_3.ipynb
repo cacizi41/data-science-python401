{
 "cells": [
  {
   "cell_type": "markdown",
   "metadata": {},
   "source": [
    "### Problem Set 3"
   ]
  },
  {
   "cell_type": "markdown",
   "metadata": {},
   "source": [
    "Import data"
   ]
  },
  {
   "cell_type": "code",
   "execution_count": 38,
   "metadata": {
    "collapsed": true
   },
   "outputs": [],
   "source": [
    "%matplotlib inline\n",
    "import pandas\n",
    "import numpy as np\n",
    "\n",
    "from math import factorial\n",
    "from scipy.stats import ttest_ind as mr_t\n",
    "import matplotlib.pyplot as plt\n",
    "import scipy.stats as sp\n",
    "\n",
    "titanic_train = pandas.read_csv('raw_data/train_titanic.csv', header=0)"
   ]
  },
  {
   "cell_type": "markdown",
   "metadata": {},
   "source": [
    "### Did survivors pay more for their tickets than the dead?"
   ]
  },
  {
   "cell_type": "markdown",
   "metadata": {},
   "source": [
    "Plot histogram of survivor fare vs dead fare distribution"
   ]
  },
  {
   "cell_type": "code",
   "execution_count": 39,
   "metadata": {
    "collapsed": false
   },
   "outputs": [
    {
     "data": {
      "image/png": "[encoded data removed]",
      "text/plain": [
       "<matplotlib.figure.Figure at 0x11507a2e8>"
      ]
     },
     "metadata": {},
     "output_type": "display_data"
    }
   ],
   "source": [
    "survivors = titanic_train[titanic_train.Survived == 1]\n",
    "dead = titanic_train[titanic_train.Survived == 0]\n",
    "\n",
    "plt.figure(figsize=(10, 4))\n",
    "plt.hist(survivors.Fare, bins=np.arange(0,115,5), alpha=0.5, label='Survivors')\n",
    "plt.hist(dead.Fare, bins=np.arange(0,115,5), alpha=0.5, label='Dead')\n",
    "plt.legend()\n",
    "plt.xlabel('Fare')\n",
    "plt.ylabel('Distribution')\n",
    "plt.show()"
   ]
  },
  {
   "cell_type": "markdown",
   "metadata": {},
   "source": [
    "### To what signifigance level?"
   ]
  },
  {
   "cell_type": "code",
   "execution_count": 40,
   "metadata": {
    "collapsed": false
   },
   "outputs": [
    {
     "name": "stdout",
     "output_type": "stream",
     "text": [
      "U-statistic: 129951.5\n",
      "p-value: 9.106954358500475e-22\n"
     ]
    }
   ],
   "source": [
    "from scipy.stats import mannwhitneyu\n",
    "u, p = mannwhitneyu(survivors.Fare, dead.Fare)\n",
    "print('U-statistic: {}'.format(u))\n",
    "print('p-value: {}'.format(p*2))"
   ]
  },
  {
   "cell_type": "markdown",
   "metadata": {},
   "source": [
    "The p-value tells us that we can be confident as to the certainty of our hypothesis that survivors fares and dead fares were different.  We are under the 0.01 p value significance cutoff."
   ]
  },
  {
   "cell_type": "markdown",
   "metadata": {},
   "source": [
    "### Find the constant that describes the relationship between age and fare."
   ]
  },
  {
   "cell_type": "markdown",
   "metadata": {},
   "source": [
    "Use linregress to find the slope."
   ]
  },
  {
   "cell_type": "code",
   "execution_count": 46,
   "metadata": {
    "collapsed": false
   },
   "outputs": [
    {
     "name": "stdout",
     "output_type": "stream",
     "text": [
      "The C value is: -0.45106254749553626\n"
     ]
    }
   ],
   "source": [
    "from scipy.stats import linregress\n",
    "titanic_train = titanic_train.dropna()\n",
    "fare = titanic_train.Fare.tolist()\n",
    "age = titanic_train.Age.tolist()\n",
    "\n",
    "slope, intercept, r_value, p_value, std_err = linregress(age,fare)\n",
    "\n",
    "print('The C value is: {}'.format(slope))"
   ]
  },
  {
   "cell_type": "markdown",
   "metadata": {},
   "source": [
    "Plot age vs fare with the linear regression to visualize."
   ]
  },
  {
   "cell_type": "code",
   "execution_count": 50,
   "metadata": {
    "collapsed": false
   },
   "outputs": [
    {
     "data": {
      "image/png": "[encoded data removed]",
      "text/plain": [
       "<matplotlib.figure.Figure at 0x117f29f60>"
      ]
     },
     "metadata": {},
     "output_type": "display_data"
    }
   ],
   "source": [
    "rng = np.arange(0,80,2)\n",
    "vals = []\n",
    "for i in rng:\n",
    "    vals.append((i * slope) + intercept)\n",
    "\n",
    "plt.figure(figsize=(10, 4))\n",
    "plt.scatter(age,fare)\n",
    "plt.xlabel('Age')\n",
    "plt.ylabel('Fare')\n",
    "plt.plot(rng,vals,'r')\n",
    "plt.show()"
   ]
  },
  {
   "cell_type": "code",
   "execution_count": null,
   "metadata": {
    "collapsed": true
   },
   "outputs": [],
   "source": []
  }
 ],
 "metadata": {
  "kernelspec": {
   "display_name": "Python 3",
   "language": "python",
   "name": "python3"
  },
  "language_info": {
   "codemirror_mode": {
    "name": "ipython",
    "version": 3
   },
   "file_extension": ".py",
   "mimetype": "text/x-python",
   "name": "python",
   "nbconvert_exporter": "python",
   "pygments_lexer": "ipython3",
   "version": "3.5.1"
  }
 },
 "nbformat": 4,
 "nbformat_minor": 0
}
