{
 "cells": [
  {
   "cell_type": "code",
   "execution_count": 3,
   "metadata": {
    "collapsed": false
   },
   "outputs": [],
   "source": [
    "\"\"\"\n",
    "Raw_data\n",
    "\"\"\"\n",
    "import pandas\n",
    "import numpy\n",
    "#from scipy.stats import mode\n",
    "from sklearn import neighbors\n",
    "from sklearn.neighbors import DistanceMetric \n",
    "from pprint import pprint\n",
    "\n",
    "T_TRAIN = 'raw_data/train_titanic.csv'\n",
    "T_TEST = 'raw_data/test_titanic.csv'\n",
    "\n",
    "titanic_train = pandas.read_csv(T_TRAIN, header=0)"
   ]
  },
  {
   "cell_type": "markdown",
   "metadata": {},
   "source": [
    "Describe the data.\n",
    "> How big?\n",
    "> What are the columns and what do they mean?"
   ]
  },
  {
   "cell_type": "code",
   "execution_count": 18,
   "metadata": {
    "collapsed": false
   },
   "outputs": [
    {
     "name": "stdout",
     "output_type": "stream",
     "text": [
      "Length:\n",
      "\t891 rows\n",
      "Columns:\n",
      "\tIndex(['PassengerId', 'Survived', 'Pclass', 'Name', 'Sex', 'Age', 'SibSp',\n",
      "       'Parch', 'Ticket', 'Fare', 'Cabin', 'Embarked'],\n",
      "      dtype='object')\n"
     ]
    }
   ],
   "source": [
    "print('Length:\\n\\t{0} rows'.format(len(titanic_train)))\n",
    "print('Columns:\\n\\t{0}'.format(titanic_train.columns))"
   ]
  },
  {
   "cell_type": "markdown",
   "metadata": {},
   "source": [
    "What’s the average age of...\n",
    "> any Titanic passenger\n",
    "> a survivor\n",
    "> a non-surviving first-class passenger\n",
    "> Male survivors older than 30 from anywhere but Queenstown\n",
    "> For the groups you chose, how far (in years) are the average ages from the median ages?"
   ]
  },
  {
   "cell_type": "code",
   "execution_count": 81,
   "metadata": {
    "collapsed": false
   },
   "outputs": [
    {
     "name": "stdout",
     "output_type": "stream",
     "text": [
      "Average Age: Passenger\n",
      "\t29.69911764705882\n",
      "Average Age: Survivor\n",
      "\t28.343689655172415\n",
      "Average Age: Non-Survivor, First-class\n",
      "\t43.6953125\n",
      "Average Age: Male Survivor, > 30, not Queenstown\n",
      "\t41.48780487804878\n",
      "Median Age:\n",
      "\t38.0\n",
      "Average from median Age: \n",
      "\t8.30088235294118\n"
     ]
    }
   ],
   "source": [
    "avg_age_all = titanic_train['Age'].mean()\n",
    "print('Average Age: Passenger\\n\\t{0}'.format(avg_age_all))\n",
    "\n",
    "ave_age_survivor = titanic_train.loc[titanic_train['Survived'] == 1]['Age'].mean()\n",
    "print('Average Age: Survivor\\n\\t{0}'.format(ave_age_survivor))\n",
    "\n",
    "# Non-Survivor\n",
    "ns = titanic_train.loc[titanic_train['Survived'] == 0]\n",
    "# Non-Survivor First Class\n",
    "ns_fc = ns.loc[ns['Pclass'] == 1] \n",
    "# Average Age of Non-Survivor First Class\n",
    "ave_age_of_ns_fc = ns_fc[\"Age\"].mean()\n",
    "print('Average Age: Non-Survivor, First-class\\n\\t{0}'.format(ave_age_of_ns_fc))\n",
    "\n",
    "survivors = titanic_train.loc[\n",
    "    (titanic_train['Survived'] == 1) &\n",
    "    (titanic_train['Sex'] == 'male') &\n",
    "    (titanic_train['Age'] > 30) &\n",
    "    (titanic_train['Embarked'] != 'Q')]\n",
    "avg_age_not_q_male_survivor_over_30= survivors['Age'].mean()\n",
    "print('Average Age: Male Survivor, > 30, not Queenstown\\n\\t{0}'.format(avg_age_not_q_male_survivor_over_30))\n",
    "\n",
    "ages = titanic_train['Age'][1]\n",
    "median_age = numpy.median(ages)\n",
    "print('Median Age:\\n\\t{0}'.format(median_age))\n",
    "print('Average from median Age: \\n\\t{0}'.format(median_age - avg_age_all))"
   ]
  },
  {
   "cell_type": "markdown",
   "metadata": {},
   "source": [
    "What’s the most common...\n",
    "> passenger class\n",
    "> port of Embarkation\n",
    "> number of siblings or spouses aboard for survivors"
   ]
  },
  {
   "cell_type": "code",
   "execution_count": null,
   "metadata": {
    "collapsed": true
   },
   "outputs": [],
   "source": []
  },
  {
   "cell_type": "markdown",
   "metadata": {},
   "source": [
    "> Within what range of standard deviations from the mean (0-1, 1-2, 2-3) is the median ticket price?\n",
    "> Is it above or below the mean?"
   ]
  },
  {
   "cell_type": "code",
   "execution_count": null,
   "metadata": {
    "collapsed": true
   },
   "outputs": [],
   "source": []
  },
  {
   "cell_type": "markdown",
   "metadata": {},
   "source": [
    "> How much more expensive was the 90th percentile ticket than the 5th percentile ticket? Are they the same class?\n",
    "> The highest average ticket price was paid by passengers from which port? Null ports don’t count"
   ]
  },
  {
   "cell_type": "code",
   "execution_count": null,
   "metadata": {
    "collapsed": true
   },
   "outputs": [],
   "source": []
  },
  {
   "cell_type": "markdown",
   "metadata": {},
   "source": [
    "> Which port has passengers from the most similar passenger class?\n",
    "\n",
    "\n",
    "\n",
    "\n",
    "> Display the relationship (i.e. make a plot) between survival rate and the quantile of the ticket price for 20 integer quantiles. Make sure you label your axes."
   ]
  },
  {
   "cell_type": "markdown",
   "metadata": {},
   "source": [
    ">  What fraction of surviving 1st-class males paid lower than the overall median ticket price?"
   ]
  },
  {
   "cell_type": "code",
   "execution_count": 27,
   "metadata": {
    "collapsed": false
   },
   "outputs": [
    {
     "name": "stdout",
     "output_type": "stream",
     "text": [
      "71.2833\n",
      "31\n",
      "45\n",
      "0.688888888889\n"
     ]
    }
   ],
   "source": [
    "overall_fare = titanic_train['Fare'][1]\n",
    "overall_median = numpy.median(overall_fare)\n",
    "print(overall_median)\n",
    "male_lower_median = titanic_train.loc[(titanic_train['Pclass'] == 1)&\n",
    "                                      (titanic_train['Survived'] == 1)&\n",
    "                                      (titanic_train['Sex'] == 'male')&\n",
    "                                      (titanic_train['Fare'] < overall_median)]\n",
    "lower_count = male_lower_median.count()\n",
    "print(lower_no[0])\n",
    "# take id to count total number\n",
    "all_1st_class_male_survivor = titanic_train.loc[(titanic_train['Pclass'] == 1)&\n",
    "                                      (titanic_train['Survived'] == 1)&\n",
    "                                      (titanic_train['Sex'] == 'male')]\n",
    "total_count = all_1st_class_male_survivor.count()\n",
    "print(total_count[0])\n",
    "                                \n",
    "print(\"Fractionlower_count[0]/total_count[0])\n"
   ]
  },
  {
   "cell_type": "code",
   "execution_count": null,
   "metadata": {
    "collapsed": true
   },
   "outputs": [],
   "source": []
  },
  {
   "cell_type": "markdown",
   "metadata": {},
   "source": [
    ">  How much older/younger was the average surviving passenger with family members than the average non-surviving passenger without them?"
   ]
  },
  {
   "cell_type": "code",
   "execution_count": 9,
   "metadata": {
    "collapsed": false
   },
   "outputs": [
    {
     "name": "stdout",
     "output_type": "stream",
     "text": [
      "20.71050847457627\n",
      "32.41423357664234\n",
      "11.70372510206607\n"
     ]
    }
   ],
   "source": [
    "survive_w_sibsp_parch = titanic_train.loc[(titanic_train['Survived'] == 1)&\n",
    "                                       (titanic_train['SibSp'] > 0)&\n",
    "                                       (titanic_train['Parch'] > 0)] \n",
    "avg_age_survivor_family = survive_w_sibsp_parch['Age'].mean()\n",
    "print(avg_age_survivor_family)\n",
    "non_survivor_wo_family = titanic_train.loc[(titanic_train['Survived'] == 0)&\n",
    "                                           (titanic_train['SibSp'] == 0)&\n",
    "                                           (titanic_train['Parch'] == 0)]\n",
    "avg_age_non_survivor_wo_family = non_survivor_wo_family['Age'].mean()\n",
    "print(avg_age_non_survivor_wo_family)\n",
    "diff = abs(avg_age_survivor_family - avg_age_non_survivor_wo_family)\n",
    "print(diff)"
   ]
  },
  {
   "cell_type": "markdown",
   "metadata": {},
   "source": [
    "*STRETCH GOAL* \n",
    "For each of the following characteristics, find the median in the data.\n",
    "> age\n",
    "> ticket price\n",
    "> siblings/spouses\n",
    "> parents/children\n",
    "\n",
    "If you were to use these medians to draw numerical boundaries separating survivors from non-survivors, which of these characteristics would be the best choice and why?"
   ]
  },
  {
   "cell_type": "code",
   "execution_count": null,
   "metadata": {
    "collapsed": true
   },
   "outputs": [],
   "source": []
  }
 ],
 "metadata": {
  "kernelspec": {
   "display_name": "Python 3",
   "language": "python",
   "name": "python3"
  },
  "language_info": {
   "codemirror_mode": {
    "name": "ipython",
    "version": 3
   },
   "file_extension": ".py",
   "mimetype": "text/x-python",
   "name": "python",
   "nbconvert_exporter": "python",
   "pygments_lexer": "ipython3",
   "version": "3.5.1"
  }
 },
 "nbformat": 4,
 "nbformat_minor": 0
}
