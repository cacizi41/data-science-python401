{
 "cells": [
  {
   "cell_type": "code",
   "execution_count": 1,
   "metadata": {
    "collapsed": false
   },
   "outputs": [],
   "source": [
    "%matplotlib inline\n",
    "import pandas\n",
    "import numpy as np\n",
    "\n",
    "from math import factorial\n",
    "from scipy.stats import ttest_ind as mr_t\n",
    "import matplotlib.pyplot as plt\n",
    "import scipy.stats as sp\n",
    "\n",
    "# from scipy.stats import mode\n",
    "# from sklearn import neighbors\n",
    "# from sklearn.neighbors import DistanceMetric \n",
    "# from pprint import pprint\n",
    "\n",
    "\n",
    "titanic_train = pandas.read_csv('raw_data/train_titanic.csv', header=0)\n",
    "# titanic_train.head(5)"
   ]
  },
  {
   "cell_type": "markdown",
   "metadata": {},
   "source": [
    "#### Find the probability that...\n",
    "\n",
    "a passenger survived (mandatory)"
   ]
  },
  {
   "cell_type": "code",
   "execution_count": 2,
   "metadata": {
    "collapsed": false
   },
   "outputs": [
    {
     "name": "stdout",
     "output_type": "stream",
     "text": [
      "0.3838383838383838\n"
     ]
    }
   ],
   "source": [
    "survived = titanic_train[titanic_train.Survived == 1]\n",
    "survived_percentage = len(survived)/len(titanic_train)\n",
    "print(survived_percentage)"
   ]
  },
  {
   "cell_type": "markdown",
   "metadata": {},
   "source": [
    "38% of the passengers in our data survived."
   ]
  },
  {
   "cell_type": "markdown",
   "metadata": {},
   "source": [
    "#### Find the probability that...\n",
    "\n",
    "[x] a passenger was male\n",
    "\n",
    "[x] a passenger was female and had at least one sibling or spouse on board\n",
    "\n",
    "[ ] a survivor was from Cherbourg"
   ]
  },
  {
   "cell_type": "code",
   "execution_count": 3,
   "metadata": {
    "collapsed": false
   },
   "outputs": [
    {
     "name": "stdout",
     "output_type": "stream",
     "text": [
      "A passenger was male: 0.6475869809203143\n",
      "\n",
      "A passenger was female and had at least\n",
      "one sibling or spouse on board: 0.15712682379349047\n",
      "\n",
      "A survivor was from Cherbourg 0.2719298245614035\n",
      "\n"
     ]
    }
   ],
   "source": [
    "print(\"A passenger was male: {0}\\n\".format((titanic_train.Sex == 'male').sum()/len(titanic_train)))\n",
    "\n",
    "female_wSibling = (titanic_train.loc[(titanic_train.Sex == 'female') & (titanic_train.SibSp >= 1)]).count()\n",
    "print(\"A passenger was female and had at least\\none sibling or spouse on board: {0}\\n\"\n",
    "    .format((female_wSibling.PassengerId/len(titanic_train)))\n",
    "    )\n",
    "\n",
    "cherbourg_survivors = titanic_train[(titanic_train.Survived == 1) & (titanic_train.Embarked == \"C\")]\n",
    "ch_survived_percent = len(cherbourg_survivors)/len(survived)\n",
    "print(\"A survivor was from Cherbourg {0}\\n\"\n",
    "      .format(ch_survived_percent)\n",
    "     )"
   ]
  },
  {
   "cell_type": "markdown",
   "metadata": {},
   "source": [
    "#### Plot the distribution of passenger ages. \n",
    "\n",
    "Choose visually-meaningful bin sizes and label your axes"
   ]
  },
  {
   "cell_type": "code",
   "execution_count": 4,
   "metadata": {
    "collapsed": false
   },
   "outputs": [
    {
     "data": {
      "image/png": "[encoded data removed]",
      "text/plain": [
       "<matplotlib.figure.Figure at 0x115e6b160>"
      ]
     },
     "metadata": {},
     "output_type": "display_data"
    }
   ],
   "source": [
    "ages = titanic_train.Age.dropna()\n",
    "H, edges = np.histogram(ages, bins=80)\n",
    "\n",
    "plt.figure(figsize=(10,4))\n",
    "ax = plt.subplot(111)\n",
    "ax.bar(edges[:-1], H, width=edges[1] - edges[0])\n",
    "ax.set_xlabel('Ages')\n",
    "ax.set_ylabel('Number of passengers')\n",
    "plt.show()"
   ]
  },
  {
   "cell_type": "markdown",
   "metadata": {},
   "source": [
    "#### Find the probability that (choose one)...\n",
    "\n",
    "[ ] a passenger was less than 10 years old\n",
    "\n",
    "[x] a passenger was between 25 and 40 years old\n",
    "\n",
    "[ ] a passenger was either younger than 20 years old or older than 50"
   ]
  },
  {
   "cell_type": "code",
   "execution_count": 5,
   "metadata": {
    "collapsed": false
   },
   "outputs": [
    {
     "name": "stdout",
     "output_type": "stream",
     "text": [
      "0.40056022409\n"
     ]
    }
   ],
   "source": [
    "btw_25_40 = titanic_train[(titanic_train.Age <= 40) & (titanic_train.Age >= 25)]\n",
    "age_25_40_perc = btw_25_40.Age.count()/titanic_train.Age.count()\n",
    "print(age_25_40_perc)"
   ]
  },
  {
   "cell_type": "markdown",
   "metadata": {},
   "source": [
    "40% of passengers were between the age of 25 and 40."
   ]
  },
  {
   "cell_type": "markdown",
   "metadata": {},
   "source": [
    "#### Knowing nothing else about the passengers aside from the survival rate of the population (the first question), if I choose 100 passengers at random from the passenger list, what’s the probability that exactly 42 passengers survive?"
   ]
  },
  {
   "cell_type": "code",
   "execution_count": 6,
   "metadata": {
    "collapsed": false
   },
   "outputs": [
    {
     "name": "stdout",
     "output_type": "stream",
     "text": [
      "0.05764782161231151\n"
     ]
    }
   ],
   "source": [
    "import math\n",
    "a = math.factorial(100)\n",
    "b = math.factorial(58)\n",
    "c = math.factorial(42)\n",
    "d = (.38)**42\n",
    "e = (.62)**58\n",
    "print((a/(b*c))*d*e)"
   ]
  },
  {
   "cell_type": "code",
   "execution_count": 7,
   "metadata": {
    "collapsed": false
   },
   "outputs": [
    {
     "data": {
      "text/plain": [
       "0.057647821612310038"
      ]
     },
     "execution_count": 7,
     "metadata": {},
     "output_type": "execute_result"
    }
   ],
   "source": [
    "from scipy.stats import binom\n",
    "\n",
    "binom.pmf(42, 100, 0.38)"
   ]
  },
  {
   "cell_type": "markdown",
   "metadata": {},
   "source": [
    "Using the survival probability of 38%, there is a 5% chance that exactly 42 will survive from a random selection of 100 passengers"
   ]
  },
  {
   "cell_type": "markdown",
   "metadata": {},
   "source": [
    "#### What’s the probability that at least 42 of those 100 passengers survive?"
   ]
  },
  {
   "cell_type": "code",
   "execution_count": 8,
   "metadata": {
    "collapsed": false
   },
   "outputs": [
    {
     "name": "stdout",
     "output_type": "stream",
     "text": [
      "0.176643990901\n"
     ]
    }
   ],
   "source": [
    "prob_42 = binom.cdf(42, 100, 0.38)\n",
    "print(1 - prob_42)"
   ]
  },
  {
   "cell_type": "markdown",
   "metadata": {},
   "source": [
    "There is a 18% chance that from a list of 100 passengers at least 42 will survive."
   ]
  },
  {
   "cell_type": "markdown",
   "metadata": {},
   "source": [
    "#### Is there a statistically significant difference between...\n",
    "(If so, at what level? If not, how do you know?)\n",
    "\n",
    "...the ages of male and female survivors?\n",
    "\n",
    "YES (p-value= 0.012)\n",
    "\n",
    "...the fares paid by passengers from Queenstown and the passengers from Cherbourg?\n",
    "\n",
    "NO (p-value= 2.264)"
   ]
  },
  {
   "cell_type": "code",
   "execution_count": 9,
   "metadata": {
    "collapsed": false
   },
   "outputs": [
    {
     "name": "stdout",
     "output_type": "stream",
     "text": [
      "Total Males: 577\n",
      "Total Females: 314\n",
      "\n",
      "t_stat:\t 2.51805965098 \n",
      "p_value: 0.0119749830068\n"
     ]
    }
   ],
   "source": [
    "crazy_train = titanic_train.fillna(titanic_train['Age'].mean())\n",
    "\n",
    "crazy_males = crazy_train.loc[crazy_train.Sex == \"male\"]\n",
    "crazy_females = crazy_train.loc[crazy_train.Sex == \"female\"]\n",
    "\n",
    "print(\"Total Males: {0}\".format(crazy_males.PassengerId.count()))\n",
    "print(\"Total Females: {0}\\n\".format(crazy_females.PassengerId.count()))\n",
    "\n",
    "t_stat, p_value = mr_t(crazy_males.Age, crazy_females.Age)\n",
    "print(\"t_stat:\\t\", t_stat, \"\\np_value:\", p_value)"
   ]
  },
  {
   "cell_type": "code",
   "execution_count": 10,
   "metadata": {
    "collapsed": false
   },
   "outputs": [
    {
     "name": "stdout",
     "output_type": "stream",
     "text": [
      "Total Queenstown: 77\n",
      "Total Cherbourg: 168\n",
      "\n",
      "t_stat:\t -4.84438931299 \n",
      "p_value: 2.26358809955e-06\n"
     ]
    }
   ],
   "source": [
    "crazy_town = titanic_train\n",
    "\n",
    "Queenstown = crazy_train.loc[crazy_train.Embarked == \"Q\"]\n",
    "Cherbourg = crazy_train.loc[crazy_train.Embarked == \"C\"]\n",
    "\n",
    "print(\"Total Queenstown: {0}\".format(Queenstown.PassengerId.count()))\n",
    "print(\"Total Cherbourg: {0}\\n\".format(Cherbourg.PassengerId.count()))\n",
    "\n",
    "t_stat, p_value = mr_t(Queenstown.Fare, Cherbourg.Fare)\n",
    "print(\"t_stat:\\t\", t_stat, \"\\np_value:\", p_value)"
   ]
  },
  {
   "cell_type": "markdown",
   "metadata": {},
   "source": [
    "#### Accompany your p-values with histograms showing the distributions of both compared populations"
   ]
  },
  {
   "cell_type": "code",
   "execution_count": 11,
   "metadata": {
    "collapsed": false
   },
   "outputs": [
    {
     "data": {
      "image/png": "[encoded data removed]",
      "text/plain": [
       "<matplotlib.figure.Figure at 0x115f01d30>"
      ]
     },
     "metadata": {},
     "output_type": "display_data"
    },
    {
     "data": {
      "image/png": "[encoded data removed]",
      "text/plain": [
       "<matplotlib.figure.Figure at 0x11945ea90>"
      ]
     },
     "metadata": {},
     "output_type": "display_data"
    }
   ],
   "source": [
    "# crazy_train\n",
    "H, edges = np.histogram(crazy_train.Age, bins=50)\n",
    "\n",
    "plt.figure(figsize=(10, 4))\n",
    "ax = plt.subplot(111)\n",
    "ax.bar(edges[:-1], H / float(sum(H)), width=edges[1] - edges[0])\n",
    "ax.text(0.9, 0.9, \"%g ages\" % len(crazy_train),\n",
    "        horizontalalignment=\"right\", transform=ax.transAxes)\n",
    "ax.set_xlabel(\"Age (yrs)\")\n",
    "ax.set_ylabel(\"Probability of male or female\")\n",
    "ax.minorticks_on()\n",
    "plt.show()\n",
    "\n",
    "# crazy_town\n",
    "H, edges = np.histogram(crazy_town.Fare, bins=50)\n",
    "\n",
    "plt.figure(figsize=(10, 4))\n",
    "ax = plt.subplot(111)\n",
    "ax.bar(edges[:-1], H / float(sum(H)), width=edges[1] - edges[0])\n",
    "ax.text(0.9, 0.9, \"%g ages\" % len(crazy_train),\n",
    "        horizontalalignment=\"right\", transform=ax.transAxes)\n",
    "ax.set_xlabel(\"Fares (£)\")\n",
    "ax.set_ylabel(\"Probability of Queenstown or Cherbourg\")\n",
    "ax.minorticks_on()\n",
    "plt.show()"
   ]
  },
  {
   "cell_type": "markdown",
   "metadata": {},
   "source": [
    "#### *STRETCH GOAL* \n",
    "\n",
    "Write a function that takes N random samples of 100 passengers, and returns the fraction of those samples where at least 42 passengers survive. Choose a random seed and find approximately how many random samples you need to take before your fraction matches the probability you calculated (within Δp≈0.05Δp≈0.05).\n",
    "\n",
    "It may help to visualize the survival fraction vs the number of random samples. Answers will vary based on the seed."
   ]
  },
  {
   "cell_type": "code",
   "execution_count": null,
   "metadata": {
    "collapsed": true
   },
   "outputs": [],
   "source": []
  }
 ],
 "metadata": {
  "kernelspec": {
   "display_name": "Python 3",
   "language": "python",
   "name": "python3"
  },
  "language_info": {
   "codemirror_mode": {
    "name": "ipython",
    "version": 3
   },
   "file_extension": ".py",
   "mimetype": "text/x-python",
   "name": "python",
   "nbconvert_exporter": "python",
   "pygments_lexer": "ipython3",
   "version": "3.5.1"
  }
 },
 "nbformat": 4,
 "nbformat_minor": 0
}
